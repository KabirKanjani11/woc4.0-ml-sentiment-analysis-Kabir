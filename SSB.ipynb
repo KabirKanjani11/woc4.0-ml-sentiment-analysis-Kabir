{
 "cells": [
  {
   "cell_type": "markdown",
   "metadata": {
    "id": "1JcCWwVD3xXm"
   },
   "source": [
    "# Pre-reqs"
   ]
  },
  {
   "cell_type": "code",
   "execution_count": 2,
   "metadata": {
    "colab": {
     "base_uri": "https://localhost:8080/"
    },
    "id": "_Vv791_wv58d",
    "outputId": "ae70cd90-05b7-4dfe-c293-aa552b357fda"
   },
   "outputs": [
    {
     "name": "stdout",
     "output_type": "stream",
     "text": [
      "Requirement already satisfied: mmh3 in c:\\users\\paresh\\anaconda3\\lib\\site-packages (3.0.0)\n"
     ]
    }
   ],
   "source": [
    "!pip install mmh3"
   ]
  },
  {
   "cell_type": "code",
   "execution_count": 11,
   "metadata": {
    "id": "0KC5gVN0vUr1"
   },
   "outputs": [],
   "source": [
    "import numpy as np\n",
    "import pandas as pd\n",
    "import mmh3\n",
    "from nltk.stem import RegexpStemmer\n",
    "from nltk.tokenize import sent_tokenize, word_tokenize"
   ]
  },
  {
   "cell_type": "markdown",
   "metadata": {
    "id": "EQFRAh6Pv_sa"
   },
   "source": [
    "# Task 1"
   ]
  },
  {
   "cell_type": "markdown",
   "metadata": {
    "id": "nfhvKV57GLjq"
   },
   "source": [
    "## Stopwords Removal"
   ]
  },
  {
   "cell_type": "markdown",
   "metadata": {
    "id": "wcklv4wFGUZ9"
   },
   "source": [
    " In this exercise you have to remove stopwords from a given **Initial** text and convert the text into the **Final** text given to you \n",
    "\n",
    "*Note - Please only write your code where it is mentioned to and do not change anything else*"
   ]
  },
  {
   "cell_type": "markdown",
   "metadata": {
    "id": "6TMIz90TGk__"
   },
   "source": [
    "**Intial text**\n",
    "\n",
    "> Sentiment analysis is the process of using natural language processing , text analysis , and statistics to analyze customer sentiment .\n",
    "\n",
    "\n",
    "**Final text**\n",
    "\n",
    "> Sentiment is process using natural language processing , text , statistics analyze customer .\n"
   ]
  },
  {
   "cell_type": "code",
   "execution_count": null,
   "metadata": {
    "colab": {
     "base_uri": "https://localhost:8080/"
    },
    "id": "VvSIL7XR_0AC",
    "outputId": "fc2971d5-0b8b-4097-a56a-993ae38afaa4"
   },
   "outputs": [
    {
     "name": "stdout",
     "output_type": "stream",
     "text": [
      "[nltk_data] Downloading package punkt to /root/nltk_data...\n",
      "[nltk_data]   Package punkt is already up-to-date!\n",
      "[nltk_data] Downloading package stopwords to /root/nltk_data...\n",
      "[nltk_data]   Package stopwords is already up-to-date!\n"
     ]
    }
   ],
   "source": [
    "import nltk\n",
    "nltk.download('punkt')\n",
    "from nltk.corpus import stopwords\n",
    "nltk.download('stopwords')\n",
    "from nltk.tokenize import word_tokenize\n"
   ]
  },
  {
   "cell_type": "markdown",
   "metadata": {
    "id": "DRF0hW7uGHGN"
   },
   "source": [
    "## Tokenize your text"
   ]
  },
  {
   "cell_type": "code",
   "execution_count": null,
   "metadata": {
    "id": "lsOP7BsC_8oo"
   },
   "outputs": [],
   "source": [
    "text = \"Sentiment analysis is the process of using natural language processing , text analysis , and statistics to analyze customer sentiment .\""
   ]
  },
  {
   "cell_type": "code",
   "execution_count": null,
   "metadata": {
    "id": "LoqIzFvdAQD3"
   },
   "outputs": [],
   "source": [
    "text_tokens =word_tokenize(text) #write your code here to convert sentence into work tokens using function word_tokenize#"
   ]
  },
  {
   "cell_type": "code",
   "execution_count": null,
   "metadata": {
    "colab": {
     "base_uri": "https://localhost:8080/"
    },
    "id": "yxQRfHDQAcrX",
    "outputId": "608721df-2f01-43f2-d6a9-63f8d5530e9f"
   },
   "outputs": [
    {
     "name": "stdout",
     "output_type": "stream",
     "text": [
      "['Sentiment', 'analysis', 'is', 'the', 'process', 'of', 'using', 'natural', 'language', 'processing', ',', 'text', 'analysis', ',', 'and', 'statistics', 'to', 'analyze', 'customer', 'sentiment', '.']\n"
     ]
    }
   ],
   "source": [
    "print(text_tokens)"
   ]
  },
  {
   "cell_type": "markdown",
   "metadata": {
    "id": "XVApTuyhHM_0"
   },
   "source": [
    "*Expected output*\n",
    "\n",
    "['Sentiment', 'analysis', 'is', 'the', 'process', 'of', 'using', 'natural', 'language', 'processing', ',', 'text', 'analysis', ',', 'and', 'statistics', 'to', 'analyze', 'customer', 'sentiment', '.']"
   ]
  },
  {
   "cell_type": "markdown",
   "metadata": {
    "id": "0ZIwl7E1HfXZ"
   },
   "source": [
    "## Creating the stopwords list"
   ]
  },
  {
   "cell_type": "code",
   "execution_count": null,
   "metadata": {
    "id": "gl9hYgbGEgVg"
   },
   "outputs": [],
   "source": [
    "stopword_list = stopwords.words('english') # now stopword_list will be appended by already known common stopwords which can be seen by prinitng the list below #"
   ]
  },
  {
   "cell_type": "code",
   "execution_count": null,
   "metadata": {
    "colab": {
     "base_uri": "https://localhost:8080/"
    },
    "id": "bPiEJ434K0PU",
    "outputId": "e5e75379-2d12-4b45-fbcf-a846f2241535"
   },
   "outputs": [
    {
     "name": "stdout",
     "output_type": "stream",
     "text": [
      "['i', 'me', 'my', 'myself', 'we', 'our', 'ours', 'ourselves', 'you', \"you're\", \"you've\", \"you'll\", \"you'd\", 'your', 'yours', 'yourself', 'yourselves', 'he', 'him', 'his', 'himself', 'she', \"she's\", 'her', 'hers', 'herself', 'it', \"it's\", 'its', 'itself', 'they', 'them', 'their', 'theirs', 'themselves', 'what', 'which', 'who', 'whom', 'this', 'that', \"that'll\", 'these', 'those', 'am', 'is', 'are', 'was', 'were', 'be', 'been', 'being', 'have', 'has', 'had', 'having', 'do', 'does', 'did', 'doing', 'a', 'an', 'the', 'and', 'but', 'if', 'or', 'because', 'as', 'until', 'while', 'of', 'at', 'by', 'for', 'with', 'about', 'against', 'between', 'into', 'through', 'during', 'before', 'after', 'above', 'below', 'to', 'from', 'up', 'down', 'in', 'out', 'on', 'off', 'over', 'under', 'again', 'further', 'then', 'once', 'here', 'there', 'when', 'where', 'why', 'how', 'all', 'any', 'both', 'each', 'few', 'more', 'most', 'other', 'some', 'such', 'no', 'nor', 'not', 'only', 'own', 'same', 'so', 'than', 'too', 'very', 's', 't', 'can', 'will', 'just', 'don', \"don't\", 'should', \"should've\", 'now', 'd', 'll', 'm', 'o', 're', 've', 'y', 'ain', 'aren', \"aren't\", 'couldn', \"couldn't\", 'didn', \"didn't\", 'doesn', \"doesn't\", 'hadn', \"hadn't\", 'hasn', \"hasn't\", 'haven', \"haven't\", 'isn', \"isn't\", 'ma', 'mightn', \"mightn't\", 'mustn', \"mustn't\", 'needn', \"needn't\", 'shan', \"shan't\", 'shouldn', \"shouldn't\", 'wasn', \"wasn't\", 'weren', \"weren't\", 'won', \"won't\", 'wouldn', \"wouldn't\"]\n"
     ]
    }
   ],
   "source": [
    "print(stopword_list)"
   ]
  },
  {
   "cell_type": "code",
   "execution_count": null,
   "metadata": {
    "colab": {
     "base_uri": "https://localhost:8080/",
     "height": 234
    },
    "id": "Q3zBIboZH-ct",
    "outputId": "28d088bb-178c-4b5d-909c-b7232124e766"
   },
   "outputs": [
    {
     "ename": "ValueError",
     "evalue": "ignored",
     "output_type": "error",
     "traceback": [
      "\u001b[0;31m---------------------------------------------------------------------------\u001b[0m",
      "\u001b[0;31mValueError\u001b[0m                                Traceback (most recent call last)",
      "\u001b[0;32m<ipython-input-23-f273cd9df2a8>\u001b[0m in \u001b[0;36m<module>\u001b[0;34m()\u001b[0m\n\u001b[1;32m      2\u001b[0m \u001b[0mstopword_list\u001b[0m\u001b[0;34m.\u001b[0m\u001b[0mappend\u001b[0m\u001b[0;34m(\u001b[0m\u001b[0;34m'analysis'\u001b[0m\u001b[0;34m)\u001b[0m\u001b[0;34m\u001b[0m\u001b[0;34m\u001b[0m\u001b[0m\n\u001b[1;32m      3\u001b[0m \u001b[0mstopword_list\u001b[0m\u001b[0;34m.\u001b[0m\u001b[0mappend\u001b[0m\u001b[0;34m(\u001b[0m\u001b[0;34m'sentiment'\u001b[0m\u001b[0;34m)\u001b[0m\u001b[0;34m\u001b[0m\u001b[0;34m\u001b[0m\u001b[0m\n\u001b[0;32m----> 4\u001b[0;31m \u001b[0mstopword_list\u001b[0m\u001b[0;34m.\u001b[0m\u001b[0mremove\u001b[0m\u001b[0;34m(\u001b[0m\u001b[0;34m'is'\u001b[0m\u001b[0;34m)\u001b[0m\u001b[0;34m\u001b[0m\u001b[0;34m\u001b[0m\u001b[0m\n\u001b[0m\u001b[1;32m      5\u001b[0m \u001b[0;34m\u001b[0m\u001b[0m\n\u001b[1;32m      6\u001b[0m \u001b[0;31m# ...\u001b[0m\u001b[0;34m\u001b[0m\u001b[0;34m\u001b[0m\u001b[0;34m\u001b[0m\u001b[0m\n",
      "\u001b[0;31mValueError\u001b[0m: list.remove(x): x not in list"
     ]
    }
   ],
   "source": [
    "# Append and Remove some stopwords from the list such that after removing stopwords from intial text using stopwords_list you can get final text\n",
    "stopword_list.append('analysis')\n",
    "stopword_list.append('sentiment')\n",
    "stopword_list.remove('is')\n",
    "\n",
    "# ...\n",
    "# write your code here \n",
    "# ... \n"
   ]
  },
  {
   "cell_type": "code",
   "execution_count": null,
   "metadata": {
    "colab": {
     "base_uri": "https://localhost:8080/"
    },
    "id": "MFh_nGN1DRpy",
    "outputId": "f21e9294-44e9-4bab-d3fe-df84a5093cb9"
   },
   "outputs": [
    {
     "data": {
      "text/plain": [
       "['Sentiment',\n",
       " 'is',\n",
       " 'process',\n",
       " 'using',\n",
       " 'natural',\n",
       " 'language',\n",
       " 'processing',\n",
       " ',',\n",
       " 'text',\n",
       " ',',\n",
       " 'statistics',\n",
       " 'analyze',\n",
       " 'customer',\n",
       " '.']"
      ]
     },
     "execution_count": 24,
     "metadata": {},
     "output_type": "execute_result"
    }
   ],
   "source": [
    " #Remove all tokens from text_tokens which are also present in stopword_list and store remaining tokens in sw_filtered_text#\n",
    "\n",
    " #...\n",
    " # write your code here (Hint - create a list named sw_filtered_text fulfilling above criteria)\n",
    " #..\n",
    " sw_filtered_text=[]\n",
    " for words in text_tokens:\n",
    "    if words not in stopword_list:\n",
    "      sw_filtered_text.append(words)\n",
    "    else:\n",
    "      text_tokens.remove(words)\n"
   ]
  },
  {
   "cell_type": "code",
   "execution_count": null,
   "metadata": {
    "colab": {
     "base_uri": "https://localhost:8080/"
    },
    "id": "56k3icocDR74",
    "outputId": "f1cf2691-5c7a-4aa9-df5e-02c5cb52e14f"
   },
   "outputs": [
    {
     "name": "stdout",
     "output_type": "stream",
     "text": [
      "['Sentiment', 'is', 'process', 'using', 'natural', 'language', 'processing', ',', 'text', ',', 'statistics', 'analyze', 'customer', '.']\n"
     ]
    }
   ],
   "source": [
    "print(sw_filtered_text)"
   ]
  },
  {
   "cell_type": "markdown",
   "metadata": {
    "id": "aoI798IQJjRz"
   },
   "source": [
    "*Expected output*\n",
    "\n",
    "['Sentiment', 'is', 'process', 'using', 'natural', 'language', 'processing', ',', 'text', ',', 'statistics', 'analyze', 'customer', '.']"
   ]
  },
  {
   "cell_type": "markdown",
   "metadata": {
    "id": "nd80wGJQAewo"
   },
   "source": [
    "## Output"
   ]
  },
  {
   "cell_type": "code",
   "execution_count": null,
   "metadata": {
    "colab": {
     "base_uri": "https://localhost:8080/"
    },
    "id": "P6MRAcAFErFM",
    "outputId": "343bc5f8-6512-4226-8fa4-64694bf74b62"
   },
   "outputs": [
    {
     "name": "stdout",
     "output_type": "stream",
     "text": [
      "Sentiment is process using natural language processing , text , statistics analyze customer .\n"
     ]
    }
   ],
   "source": [
    "sw_filtered_text = (\" \").join(sw_filtered_text)\n",
    "print(sw_filtered_text)\n",
    "\n",
    "\n",
    "# The above code will join all the tokens in the final list now check whether your output with the final text given to you or not."
   ]
  },
  {
   "cell_type": "markdown",
   "metadata": {
    "id": "IKT900gTwFbo"
   },
   "source": [
    "# Task 2"
   ]
  },
  {
   "cell_type": "markdown",
   "metadata": {
    "id": "jGMPQJMf4oZ1"
   },
   "source": [
    "## Stemming"
   ]
  },
  {
   "cell_type": "markdown",
   "metadata": {
    "id": "cryVbEXp4oZ2"
   },
   "source": [
    "In this exercise, with the given input, produce the given output by stemming the previously tokenized words.\n",
    "\n",
    "*Note - Write your code only where it is mentioned to and keep everything else unchanged.*"
   ]
  },
  {
   "cell_type": "markdown",
   "metadata": {
    "id": "BD1VxLUF4oZ2"
   },
   "source": [
    "**Input**\n",
    "> ['Constantly', 'concentrating', 'nearby', 'object', 'may', 'lead', 'one', 'feel', 'strain' 'eyes']\n",
    "\n",
    "\n",
    "\n",
    "**Output**\n",
    "> ['Constant', 'concentrat', 'near', 'object', 'may', 'lead', 'on', 'feel', 'strain' 'ey']"
   ]
  },
  {
   "cell_type": "code",
   "execution_count": 3,
   "metadata": {
    "id": "ljE4xRlO-eOc"
   },
   "outputs": [],
   "source": [
    "  stemmed_tockens =['Constantly', 'concentrating', 'nearby', 'object', 'may', 'lead', 'one', 'feel', 'strain','eyes']# Your code here"
   ]
  },
  {
   "cell_type": "code",
   "execution_count": 9,
   "metadata": {
    "colab": {
     "base_uri": "https://localhost:8080/"
    },
    "id": "BInjGAZw-qSC",
    "outputId": "4ef43a3c-8d27-4ed2-9c13-c9e1091b796f"
   },
   "outputs": [
    {
     "data": {
      "text/plain": [
       "['Constant',\n",
       " 'concentrat',\n",
       " 'near',\n",
       " 'object',\n",
       " 'may',\n",
       " 'lead',\n",
       " 'on',\n",
       " 'feel',\n",
       " 'strain',\n",
       " 'ey']"
      ]
     },
     "execution_count": 9,
     "metadata": {},
     "output_type": "execute_result"
    }
   ],
   "source": [
    "# Final output\n",
    "st=RegexpStemmer(\"ly$|ing$|by$|e$|es$\")\n",
    "wor=[]\n",
    "for x in stemmed_tockens:\n",
    "    wor.append(st.stem(x))\n",
    "wor\n"
   ]
  },
  {
   "cell_type": "markdown",
   "metadata": {
    "id": "KNKHhvCW-xVS"
   },
   "source": [
    "Questionnaire:\n",
    "1. Have you written an entire function for stemming? - YES/NO\n",
    "2. Have you used any pre-built library for this task? - YES/NO YES\n",
    "3. Name the library used (write NA if not used): ______ NLTK RegexStemmer"
   ]
  },
  {
   "cell_type": "markdown",
   "metadata": {
    "id": "IOMr50QBwHQw"
   },
   "source": [
    "# Task 3"
   ]
  },
  {
   "cell_type": "markdown",
   "metadata": {
    "id": "FDCBJRLvwJbq"
   },
   "source": [
    "### The Hashing Trick"
   ]
  },
  {
   "cell_type": "markdown",
   "metadata": {
    "id": "Loy-mazWySll"
   },
   "source": [
    "The conventional Bag of Words method involves formation of vocabulary out of all the available tokens in the given text and later, building features out of the vocabulary using frequencies of tokens or just their presence (1s or 0s). Feature hashing or the hashing trick helps overcome some of the major limitations of conventional Bag of Words like growing vocabulary with growing dataset size i.e. dimensionality reduction or dodging crafty corner cases. \n",
    "\n",
    "For some further details on Feature hashing, refer to these links:\n",
    "1. https://en.wikipedia.org/wiki/Feature_hashing\n",
    "2. https://medium.com/value-stream-design/introducing-one-of-the-best-hacks-in-machine-learning-the-hashing-trick-bf6a9c8af18f\n",
    "\n",
    "For this Task, given some arbitrary data in a DataFrame, implement Feature hashing manually using MurmurHash3 (using mmh3 module imported at the beginning) to hash each word and then modulo to build a feature vector as shown in the below example:\n",
    "\n",
    "\n",
    "---\n",
    "\n",
    "\n",
    "Example:\n",
    "\n",
    "**Dataset**\n",
    "\n",
    "| Text      | Label |\n",
    "| --------- | ----- |\n",
    "| Loved the service      | 1       |\n",
    "| Terrible food   | 0        |\n",
    "\n",
    "Using conventional bag of words, we would require 5 features for 5 unique words in both the sentences (loved, the, service, terrible, food).\n",
    "\n",
    "Let us use feature hashing such that output feature vector has 4 features (use modulo 4 after hashing)\n",
    "\n",
    "Sentence 1: Loved the service\n",
    "\n",
    "| Words      | Hash | Hash modulo 4 |\n",
    "| --------- | ----- | ------------- |\n",
    "| loved | 2334787929 | 1 |\n",
    "| the   | 3162218338 | 2 |\n",
    "| service | 3640852848 | 0 |\n",
    "\n",
    "Sentence 2: Terrible food\n",
    "\n",
    "| Words      | Hash | Hash modulo 4 |\n",
    "| --------- | ----- | ------------- |\n",
    "| terrible | 2800746226 | 2 |\n",
    "| food   | 2122679414 | 2 |\n",
    "\n",
    "Final feature vector:\n",
    "\n",
    "| Sentence      | Hash Feature 0 | Hash Feature 1 | Hash Feature 2 | Hash Feature 3 |\n",
    "| --------- | ----- | ------------- | ----- | ----- |\n",
    "| Loved the service | 1 | 1 | 1 | 0 |\n",
    "| Terrible food | 0 | 0 | 2 | 0 |\n",
    "\n",
    "Thus the output should be:\n",
    "\n",
    "\n",
    "```\n",
    "sample_output = [1, 1, 1, 0\n",
    "                 0, 0, 2, 0]\n",
    "```\n",
    "\n",
    "For the dataset given in the problem: \n",
    "\n",
    "- Required features: 1000\n",
    "\n",
    "- Hash function: mmh3 (must use unsigned hash)"
   ]
  },
  {
   "cell_type": "markdown",
   "metadata": {
    "id": "DaAU0AMn7Jxz"
   },
   "source": [
    "**NOTE: You should only use Pandas, NumPy and mmh3 for this task, if any other library is used, your submission will not be considered.**"
   ]
  },
  {
   "cell_type": "code",
   "execution_count": 19,
   "metadata": {},
   "outputs": [],
   "source": [
    "def ssb(da):\n",
    "    for i in range(len(da)):\n",
    "        da[i]=(hash(da[i])%1000)\n",
    "    return da"
   ]
  },
  {
   "cell_type": "code",
   "execution_count": 20,
   "metadata": {
    "colab": {
     "base_uri": "https://localhost:8080/",
     "height": 398
    },
    "id": "FiZm2ubU7XTL",
    "outputId": "511ba7b4-faf4-4b21-8abb-65665e24fe54"
   },
   "outputs": [
    {
     "data": {
      "text/html": [
       "<div>\n",
       "<style scoped>\n",
       "    .dataframe tbody tr th:only-of-type {\n",
       "        vertical-align: middle;\n",
       "    }\n",
       "\n",
       "    .dataframe tbody tr th {\n",
       "        vertical-align: top;\n",
       "    }\n",
       "\n",
       "    .dataframe thead th {\n",
       "        text-align: right;\n",
       "    }\n",
       "</style>\n",
       "<table border=\"1\" class=\"dataframe\">\n",
       "  <thead>\n",
       "    <tr style=\"text-align: right;\">\n",
       "      <th></th>\n",
       "      <th>Unnamed: 0</th>\n",
       "      <th>text_clean</th>\n",
       "      <th>label_num</th>\n",
       "      <th>Modulo_1000</th>\n",
       "    </tr>\n",
       "  </thead>\n",
       "  <tbody>\n",
       "    <tr>\n",
       "      <th>0</th>\n",
       "      <td>0</td>\n",
       "      <td>subject enron methanol meter this is a follow ...</td>\n",
       "      <td>0</td>\n",
       "      <td>[733, 725, 216, 962, 412, 982, 516, 35, 717, 4...</td>\n",
       "    </tr>\n",
       "    <tr>\n",
       "      <th>1</th>\n",
       "      <td>1</td>\n",
       "      <td>subject hpl nom for january see attached file ...</td>\n",
       "      <td>0</td>\n",
       "      <td>[733, 890, 563, 486, 894, 375, 764, 207, 148, ...</td>\n",
       "    </tr>\n",
       "    <tr>\n",
       "      <th>2</th>\n",
       "      <td>2</td>\n",
       "      <td>subject neon retreat ho ho ho we re around to ...</td>\n",
       "      <td>0</td>\n",
       "      <td>[733, 703, 642, 143, 143, 143, 178, 573, 885, ...</td>\n",
       "    </tr>\n",
       "    <tr>\n",
       "      <th>3</th>\n",
       "      <td>3</td>\n",
       "      <td>subject photoshop windows office cheap main tr...</td>\n",
       "      <td>1</td>\n",
       "      <td>[733, 755, 378, 301, 155, 141, 160, 188, 540, ...</td>\n",
       "    </tr>\n",
       "    <tr>\n",
       "      <th>4</th>\n",
       "      <td>4</td>\n",
       "      <td>subject re indian springs this deal is to book...</td>\n",
       "      <td>0</td>\n",
       "      <td>[733, 573, 6, 384, 412, 937, 982, 404, 789, 72...</td>\n",
       "    </tr>\n",
       "    <tr>\n",
       "      <th>...</th>\n",
       "      <td>...</td>\n",
       "      <td>...</td>\n",
       "      <td>...</td>\n",
       "      <td>...</td>\n",
       "    </tr>\n",
       "    <tr>\n",
       "      <th>5166</th>\n",
       "      <td>5166</td>\n",
       "      <td>subject put the on the ft the transport volume...</td>\n",
       "      <td>0</td>\n",
       "      <td>[733, 196, 727, 799, 727, 711, 727, 49, 748, 5...</td>\n",
       "    </tr>\n",
       "    <tr>\n",
       "      <th>5167</th>\n",
       "      <td>5167</td>\n",
       "      <td>subject and following noms hpl can t take the ...</td>\n",
       "      <td>0</td>\n",
       "      <td>[733, 755, 291, 938, 890, 544, 151, 352, 727, ...</td>\n",
       "    </tr>\n",
       "    <tr>\n",
       "      <th>5168</th>\n",
       "      <td>5168</td>\n",
       "      <td>subject calpine daily gas nomination julie as ...</td>\n",
       "      <td>0</td>\n",
       "      <td>[733, 225, 505, 920, 504, 481, 664, 986, 176, ...</td>\n",
       "    </tr>\n",
       "    <tr>\n",
       "      <th>5169</th>\n",
       "      <td>5169</td>\n",
       "      <td>subject industrial worksheets for august activ...</td>\n",
       "      <td>0</td>\n",
       "      <td>[733, 945, 183, 486, 660, 838, 764, 773, 727, ...</td>\n",
       "    </tr>\n",
       "    <tr>\n",
       "      <th>5170</th>\n",
       "      <td>5170</td>\n",
       "      <td>subject important online banking alert dear va...</td>\n",
       "      <td>1</td>\n",
       "      <td>[733, 900, 564, 637, 729, 931, 747, 813, 318, ...</td>\n",
       "    </tr>\n",
       "  </tbody>\n",
       "</table>\n",
       "<p>5171 rows × 4 columns</p>\n",
       "</div>"
      ],
      "text/plain": [
       "      Unnamed: 0                                         text_clean  \\\n",
       "0              0  subject enron methanol meter this is a follow ...   \n",
       "1              1  subject hpl nom for january see attached file ...   \n",
       "2              2  subject neon retreat ho ho ho we re around to ...   \n",
       "3              3  subject photoshop windows office cheap main tr...   \n",
       "4              4  subject re indian springs this deal is to book...   \n",
       "...          ...                                                ...   \n",
       "5166        5166  subject put the on the ft the transport volume...   \n",
       "5167        5167  subject and following noms hpl can t take the ...   \n",
       "5168        5168  subject calpine daily gas nomination julie as ...   \n",
       "5169        5169  subject industrial worksheets for august activ...   \n",
       "5170        5170  subject important online banking alert dear va...   \n",
       "\n",
       "      label_num                                        Modulo_1000  \n",
       "0             0  [733, 725, 216, 962, 412, 982, 516, 35, 717, 4...  \n",
       "1             0  [733, 890, 563, 486, 894, 375, 764, 207, 148, ...  \n",
       "2             0  [733, 703, 642, 143, 143, 143, 178, 573, 885, ...  \n",
       "3             1  [733, 755, 378, 301, 155, 141, 160, 188, 540, ...  \n",
       "4             0  [733, 573, 6, 384, 412, 937, 982, 404, 789, 72...  \n",
       "...         ...                                                ...  \n",
       "5166          0  [733, 196, 727, 799, 727, 711, 727, 49, 748, 5...  \n",
       "5167          0  [733, 755, 291, 938, 890, 544, 151, 352, 727, ...  \n",
       "5168          0  [733, 225, 505, 920, 504, 481, 664, 986, 176, ...  \n",
       "5169          0  [733, 945, 183, 486, 660, 838, 764, 773, 727, ...  \n",
       "5170          1  [733, 900, 564, 637, 729, 931, 747, 813, 318, ...  \n",
       "\n",
       "[5171 rows x 4 columns]"
      ]
     },
     "execution_count": 20,
     "metadata": {},
     "output_type": "execute_result"
    }
   ],
   "source": [
    "df = pd.read_csv('data_BoW.csv')\n",
    "df['Modulo_1000']=df.iloc[:,1].apply(lambda x : word_tokenize(x))\n",
    "df.iloc[:,3]=df.iloc[:,3].apply(lambda x:ssb(x))"
   ]
  },
  {
   "cell_type": "code",
   "execution_count": 21,
   "metadata": {
    "id": "SwNiRpMdD-5L"
   },
   "outputs": [
    {
     "data": {
      "text/html": [
       "<div>\n",
       "<style scoped>\n",
       "    .dataframe tbody tr th:only-of-type {\n",
       "        vertical-align: middle;\n",
       "    }\n",
       "\n",
       "    .dataframe tbody tr th {\n",
       "        vertical-align: top;\n",
       "    }\n",
       "\n",
       "    .dataframe thead th {\n",
       "        text-align: right;\n",
       "    }\n",
       "</style>\n",
       "<table border=\"1\" class=\"dataframe\">\n",
       "  <thead>\n",
       "    <tr style=\"text-align: right;\">\n",
       "      <th></th>\n",
       "      <th>Unnamed: 0</th>\n",
       "      <th>text_clean</th>\n",
       "      <th>label_num</th>\n",
       "      <th>Modulo_1000</th>\n",
       "    </tr>\n",
       "  </thead>\n",
       "  <tbody>\n",
       "    <tr>\n",
       "      <th>0</th>\n",
       "      <td>0</td>\n",
       "      <td>subject enron methanol meter this is a follow ...</td>\n",
       "      <td>0</td>\n",
       "      <td>[733, 725, 216, 962, 412, 982, 516, 35, 717, 4...</td>\n",
       "    </tr>\n",
       "    <tr>\n",
       "      <th>1</th>\n",
       "      <td>1</td>\n",
       "      <td>subject hpl nom for january see attached file ...</td>\n",
       "      <td>0</td>\n",
       "      <td>[733, 890, 563, 486, 894, 375, 764, 207, 148, ...</td>\n",
       "    </tr>\n",
       "    <tr>\n",
       "      <th>2</th>\n",
       "      <td>2</td>\n",
       "      <td>subject neon retreat ho ho ho we re around to ...</td>\n",
       "      <td>0</td>\n",
       "      <td>[733, 703, 642, 143, 143, 143, 178, 573, 885, ...</td>\n",
       "    </tr>\n",
       "    <tr>\n",
       "      <th>3</th>\n",
       "      <td>3</td>\n",
       "      <td>subject photoshop windows office cheap main tr...</td>\n",
       "      <td>1</td>\n",
       "      <td>[733, 755, 378, 301, 155, 141, 160, 188, 540, ...</td>\n",
       "    </tr>\n",
       "    <tr>\n",
       "      <th>4</th>\n",
       "      <td>4</td>\n",
       "      <td>subject re indian springs this deal is to book...</td>\n",
       "      <td>0</td>\n",
       "      <td>[733, 573, 6, 384, 412, 937, 982, 404, 789, 72...</td>\n",
       "    </tr>\n",
       "    <tr>\n",
       "      <th>...</th>\n",
       "      <td>...</td>\n",
       "      <td>...</td>\n",
       "      <td>...</td>\n",
       "      <td>...</td>\n",
       "    </tr>\n",
       "    <tr>\n",
       "      <th>5166</th>\n",
       "      <td>5166</td>\n",
       "      <td>subject put the on the ft the transport volume...</td>\n",
       "      <td>0</td>\n",
       "      <td>[733, 196, 727, 799, 727, 711, 727, 49, 748, 5...</td>\n",
       "    </tr>\n",
       "    <tr>\n",
       "      <th>5167</th>\n",
       "      <td>5167</td>\n",
       "      <td>subject and following noms hpl can t take the ...</td>\n",
       "      <td>0</td>\n",
       "      <td>[733, 755, 291, 938, 890, 544, 151, 352, 727, ...</td>\n",
       "    </tr>\n",
       "    <tr>\n",
       "      <th>5168</th>\n",
       "      <td>5168</td>\n",
       "      <td>subject calpine daily gas nomination julie as ...</td>\n",
       "      <td>0</td>\n",
       "      <td>[733, 225, 505, 920, 504, 481, 664, 986, 176, ...</td>\n",
       "    </tr>\n",
       "    <tr>\n",
       "      <th>5169</th>\n",
       "      <td>5169</td>\n",
       "      <td>subject industrial worksheets for august activ...</td>\n",
       "      <td>0</td>\n",
       "      <td>[733, 945, 183, 486, 660, 838, 764, 773, 727, ...</td>\n",
       "    </tr>\n",
       "    <tr>\n",
       "      <th>5170</th>\n",
       "      <td>5170</td>\n",
       "      <td>subject important online banking alert dear va...</td>\n",
       "      <td>1</td>\n",
       "      <td>[733, 900, 564, 637, 729, 931, 747, 813, 318, ...</td>\n",
       "    </tr>\n",
       "  </tbody>\n",
       "</table>\n",
       "<p>5171 rows × 4 columns</p>\n",
       "</div>"
      ],
      "text/plain": [
       "      Unnamed: 0                                         text_clean  \\\n",
       "0              0  subject enron methanol meter this is a follow ...   \n",
       "1              1  subject hpl nom for january see attached file ...   \n",
       "2              2  subject neon retreat ho ho ho we re around to ...   \n",
       "3              3  subject photoshop windows office cheap main tr...   \n",
       "4              4  subject re indian springs this deal is to book...   \n",
       "...          ...                                                ...   \n",
       "5166        5166  subject put the on the ft the transport volume...   \n",
       "5167        5167  subject and following noms hpl can t take the ...   \n",
       "5168        5168  subject calpine daily gas nomination julie as ...   \n",
       "5169        5169  subject industrial worksheets for august activ...   \n",
       "5170        5170  subject important online banking alert dear va...   \n",
       "\n",
       "      label_num                                        Modulo_1000  \n",
       "0             0  [733, 725, 216, 962, 412, 982, 516, 35, 717, 4...  \n",
       "1             0  [733, 890, 563, 486, 894, 375, 764, 207, 148, ...  \n",
       "2             0  [733, 703, 642, 143, 143, 143, 178, 573, 885, ...  \n",
       "3             1  [733, 755, 378, 301, 155, 141, 160, 188, 540, ...  \n",
       "4             0  [733, 573, 6, 384, 412, 937, 982, 404, 789, 72...  \n",
       "...         ...                                                ...  \n",
       "5166          0  [733, 196, 727, 799, 727, 711, 727, 49, 748, 5...  \n",
       "5167          0  [733, 755, 291, 938, 890, 544, 151, 352, 727, ...  \n",
       "5168          0  [733, 225, 505, 920, 504, 481, 664, 986, 176, ...  \n",
       "5169          0  [733, 945, 183, 486, 660, 838, 764, 773, 727, ...  \n",
       "5170          1  [733, 900, 564, 637, 729, 931, 747, 813, 318, ...  \n",
       "\n",
       "[5171 rows x 4 columns]"
      ]
     },
     "execution_count": 21,
     "metadata": {},
     "output_type": "execute_result"
    }
   ],
   "source": [
    "#your code here\n",
    "df"
   ]
  },
  {
   "cell_type": "code",
   "execution_count": null,
   "metadata": {},
   "outputs": [],
   "source": []
  }
 ],
 "metadata": {
  "colab": {
   "collapsed_sections": [],
   "name": "Copy of Mid-evaluation Tasks [WoC 4.0: Sentiment Analysis].ipynb",
   "provenance": []
  },
  "kernelspec": {
   "display_name": "Python 3 (ipykernel)",
   "language": "python",
   "name": "python3"
  },
  "language_info": {
   "codemirror_mode": {
    "name": "ipython",
    "version": 3
   },
   "file_extension": ".py",
   "mimetype": "text/x-python",
   "name": "python",
   "nbconvert_exporter": "python",
   "pygments_lexer": "ipython3",
   "version": "3.9.7"
  }
 },
 "nbformat": 4,
 "nbformat_minor": 1
}
