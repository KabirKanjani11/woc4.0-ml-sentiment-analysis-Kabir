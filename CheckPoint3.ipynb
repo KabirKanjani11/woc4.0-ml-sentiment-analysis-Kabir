{
 "cells": [
  {
   "cell_type": "code",
   "execution_count": 8,
   "id": "a6cc0f8d",
   "metadata": {},
   "outputs": [],
   "source": [
    "import pandas as pd\n",
    "import re\n",
    "from nltk.corpus import stopwords\n",
    "from nltk.stem import PorterStemmer\n",
    "import pandas as pd\n",
    "from nltk.tokenize import sent_tokenize, word_tokenize\n"
   ]
  },
  {
   "cell_type": "code",
   "execution_count": 6,
   "id": "14d311b8",
   "metadata": {},
   "outputs": [],
   "source": [
    "df=pd.read_csv(r'D:\\Python\\Numpy\\archive\\tripadvisor_hotel_reviews.csv', encoding='utf-8')\n",
    "review=df['Rating']\n"
   ]
  },
  {
   "cell_type": "code",
   "execution_count": 7,
   "id": "45c7feaf",
   "metadata": {},
   "outputs": [
    {
     "name": "stderr",
     "output_type": "stream",
     "text": [
      "C:\\Users\\Paresh\\anaconda3\\lib\\site-packages\\pandas\\core\\indexing.py:1732: SettingWithCopyWarning: \n",
      "A value is trying to be set on a copy of a slice from a DataFrame\n",
      "\n",
      "See the caveats in the documentation: https://pandas.pydata.org/pandas-docs/stable/user_guide/indexing.html#returning-a-view-versus-a-copy\n",
      "  self._setitem_single_block(indexer, value, name)\n"
     ]
    },
    {
     "name": "stdout",
     "output_type": "stream",
     "text": [
      "                                                  Review  Rating\n",
      "0      nice hotel expensive parking got good deal sta...       2\n",
      "1      ok nothing special charge diamond member hilto...       0\n",
      "2      nice rooms not experience hotel monaco seattle...       1\n",
      "3      unique great stay wonderful time hotel monaco ...       2\n",
      "4      great stay great stay went seahawk game awesom...       2\n",
      "...                                                  ...     ...\n",
      "20486  best kept secret rd time staying charm not sta...       2\n",
      "20487  great location price view hotel great quick pl...       2\n",
      "20488  ok just looks nice modern outside desk staff n...       0\n",
      "20489  hotel theft ruined vacation hotel opened sept ...       1\n",
      "20490  people talking ca nt believe excellent ratings...       0\n",
      "\n",
      "[20491 rows x 2 columns]\n"
     ]
    }
   ],
   "source": [
    "df['Rating'].loc[~((df['Rating']>0)&(df['Rating']<6))]=-1\n",
    "df['Rating'].loc[(df['Rating']>1) &( df['Rating']<3)]=0\n",
    "df['Rating'].loc[(df['Rating']==3)]=1\n",
    "df['Rating'].loc[(df['Rating']>3 )& (df['Rating']<=5)]=2\n",
    "df['Review']=df['Review'].str.lower()\n",
    "df['Review']=[re.sub(r'[(https|http)://]?[www\\.]?[a-zA-Z0-9]+\\.[(com)|(org)|(edu)]+','',str(x)) for x in df['Review']]\n",
    "df['Review']=[re.sub(r'[^a-z & ^\\s]','',str(x)) for x in df['Review']]\n",
    "df['Review']=[re.sub(r'[\\s]+',' ',str(x)) for x in df['Review']]\n",
    "print(df)\n",
    "\n",
    "df.to_csv('Check.csv',index=False)\n"
   ]
  },
  {
   "cell_type": "code",
   "execution_count": 10,
   "id": "77a538aa",
   "metadata": {},
   "outputs": [
    {
     "name": "stdout",
     "output_type": "stream",
     "text": [
      "0        [nice, hotel, expens, park, got, good, deal, s...\n",
      "1        [ok, noth, special, charg, diamond, member, hi...\n",
      "2        [nice, room, experi, hotel, monaco, seattl, go...\n",
      "3        [uniqu, great, stay, wonder, time, hotel, mona...\n",
      "4        [great, stay, great, stay, went, seahawk, game...\n",
      "                               ...                        \n",
      "20486    [best, kept, secret, rd, time, stay, charm, st...\n",
      "20487    [great, locat, price, view, hotel, great, quic...\n",
      "20488    [ok, look, nice, modern, outsid, desk, staff, ...\n",
      "20489    [hotel, theft, ruin, vacat, hotel, open, sept,...\n",
      "20490    [peopl, talk, ca, nt, believ, excel, rate, hot...\n",
      "Name: Review, Length: 20491, dtype: object\n"
     ]
    }
   ],
   "source": [
    "#NLP Exercise \n",
    "\n",
    "ps=PorterStemmer()\n",
    "df = pd.read_csv('Check.csv')\n",
    "df['Review'] = df.apply(lambda row: word_tokenize(row['Review']), axis=1)\n",
    "stop_words = set(stopwords.words('english'))\n",
    "# print(df['Review'])\n",
    "# print(stop_words)\n",
    "\n",
    "\n",
    "def remover(p):\n",
    "    for word in p:\n",
    "        if word in stop_words:\n",
    "            p.remove(word)\n",
    "    return p\n",
    "\n",
    "\n",
    "\n",
    "df['Review'] = df['Review'].map(remover)\n",
    "# print(df['Review'])\n",
    "\n",
    "# print(df['Review'][0][0])\n",
    "i=0\n",
    "for row in df['Review']:\n",
    "    j=0\n",
    "    for word in row:\n",
    "        df['Review'][i][j]=ps.stem(word)\n",
    "        j+=1\n",
    "    i+=1\n",
    "print(df['Review'])\n",
    "df.to_csv('Check1.csv',index=False)"
   ]
  },
  {
   "cell_type": "code",
   "execution_count": null,
   "id": "468cd29b",
   "metadata": {},
   "outputs": [],
   "source": []
  }
 ],
 "metadata": {
  "kernelspec": {
   "display_name": "Python 3 (ipykernel)",
   "language": "python",
   "name": "python3"
  },
  "language_info": {
   "codemirror_mode": {
    "name": "ipython",
    "version": 3
   },
   "file_extension": ".py",
   "mimetype": "text/x-python",
   "name": "python",
   "nbconvert_exporter": "python",
   "pygments_lexer": "ipython3",
   "version": "3.9.7"
  }
 },
 "nbformat": 4,
 "nbformat_minor": 5
}
